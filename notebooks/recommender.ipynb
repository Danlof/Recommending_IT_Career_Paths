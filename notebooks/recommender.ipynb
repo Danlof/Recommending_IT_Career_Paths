{
  "cells": [
    {
      "cell_type": "code",
      "execution_count": 333,
      "metadata": {
        "id": "16tb75KxGwkx"
      },
      "outputs": [],
      "source": [
        "import pandas as pd\n",
        "import numpy as np\n",
        "from sklearn.preprocessing import OneHotEncoder, StandardScaler,MultiLabelBinarizer\n",
        "from sklearn.cluster import AgglomerativeClustering\n",
        "from sklearn.neighbors import NearestNeighbors\n",
        "from sklearn.metrics import silhouette_score, pairwise_distances\n",
        "import scipy.cluster.hierarchy as sch\n",
        "from sklearn.cluster import KMeans\n",
        "from sklearn.impute import SimpleImputer\n",
        "\n",
        "\n",
        "\n"
      ]
    },
    {
      "cell_type": "code",
      "execution_count": 313,
      "metadata": {
        "colab": {
          "base_uri": "https://localhost:8080/"
        },
        "id": "rsO8tE_2Gwky",
        "outputId": "e6d549f9-4982-4310-a47f-6a48097cd31e"
      },
      "outputs": [
        {
          "name": "stdout",
          "output_type": "stream",
          "text": [
            "Drive already mounted at /content/drive; to attempt to forcibly remount, call drive.mount(\"/content/drive\", force_remount=True).\n"
          ]
        }
      ],
      "source": [
        "from google.colab import drive\n",
        "drive.mount('/content/drive')"
      ]
    },
    {
      "cell_type": "code",
      "execution_count": 364,
      "metadata": {
        "colab": {
          "base_uri": "https://localhost:8080/",
          "height": 853
        },
        "id": "NgZvjnWEGwky",
        "outputId": "1eb99ec6-3f77-4599-b4a4-9f8f8d21b8a1"
      },
      "outputs": [
        {
          "data": {
            "application/vnd.google.colaboratory.intrinsic+json": {
              "type": "dataframe",
              "variable_name": "df"
            },
            "text/html": [
              "\n",
              "  <div id=\"df-85802cb4-d328-42aa-b4a1-1bb6b34e992c\" class=\"colab-df-container\">\n",
              "    <div>\n",
              "<style scoped>\n",
              "    .dataframe tbody tr th:only-of-type {\n",
              "        vertical-align: middle;\n",
              "    }\n",
              "\n",
              "    .dataframe tbody tr th {\n",
              "        vertical-align: top;\n",
              "    }\n",
              "\n",
              "    .dataframe thead th {\n",
              "        text-align: right;\n",
              "    }\n",
              "</style>\n",
              "<table border=\"1\" class=\"dataframe\">\n",
              "  <thead>\n",
              "    <tr style=\"text-align: right;\">\n",
              "      <th></th>\n",
              "      <th>ResponseId</th>\n",
              "      <th>Q120</th>\n",
              "      <th>MainBranch</th>\n",
              "      <th>Age</th>\n",
              "      <th>Employment</th>\n",
              "      <th>RemoteWork</th>\n",
              "      <th>CodingActivities</th>\n",
              "      <th>EdLevel</th>\n",
              "      <th>LearnCode</th>\n",
              "      <th>LearnCodeOnline</th>\n",
              "      <th>...</th>\n",
              "      <th>Frequency_1</th>\n",
              "      <th>Frequency_2</th>\n",
              "      <th>Frequency_3</th>\n",
              "      <th>TimeSearching</th>\n",
              "      <th>TimeAnswering</th>\n",
              "      <th>ProfessionalTech</th>\n",
              "      <th>Industry</th>\n",
              "      <th>SurveyLength</th>\n",
              "      <th>SurveyEase</th>\n",
              "      <th>ConvertedCompYearly</th>\n",
              "    </tr>\n",
              "  </thead>\n",
              "  <tbody>\n",
              "    <tr>\n",
              "      <th>0</th>\n",
              "      <td>1</td>\n",
              "      <td>I agree</td>\n",
              "      <td>None of these</td>\n",
              "      <td>18-24 years old</td>\n",
              "      <td>NaN</td>\n",
              "      <td>NaN</td>\n",
              "      <td>NaN</td>\n",
              "      <td>NaN</td>\n",
              "      <td>NaN</td>\n",
              "      <td>NaN</td>\n",
              "      <td>...</td>\n",
              "      <td>NaN</td>\n",
              "      <td>NaN</td>\n",
              "      <td>NaN</td>\n",
              "      <td>NaN</td>\n",
              "      <td>NaN</td>\n",
              "      <td>NaN</td>\n",
              "      <td>NaN</td>\n",
              "      <td>NaN</td>\n",
              "      <td>NaN</td>\n",
              "      <td>NaN</td>\n",
              "    </tr>\n",
              "    <tr>\n",
              "      <th>1</th>\n",
              "      <td>2</td>\n",
              "      <td>I agree</td>\n",
              "      <td>I am a developer by profession</td>\n",
              "      <td>25-34 years old</td>\n",
              "      <td>Employed, full-time</td>\n",
              "      <td>Remote</td>\n",
              "      <td>Hobby;Contribute to open-source projects;Boots...</td>\n",
              "      <td>Bachelor’s degree (B.A., B.S., B.Eng., etc.)</td>\n",
              "      <td>Books / Physical media;Colleague;Friend or fam...</td>\n",
              "      <td>Formal documentation provided by the owner of ...</td>\n",
              "      <td>...</td>\n",
              "      <td>1-2 times a week</td>\n",
              "      <td>10+ times a week</td>\n",
              "      <td>Never</td>\n",
              "      <td>15-30 minutes a day</td>\n",
              "      <td>15-30 minutes a day</td>\n",
              "      <td>DevOps function;Microservices;Automated testin...</td>\n",
              "      <td>Information Services, IT, Software Development...</td>\n",
              "      <td>Appropriate in length</td>\n",
              "      <td>Easy</td>\n",
              "      <td>285000.0</td>\n",
              "    </tr>\n",
              "    <tr>\n",
              "      <th>2</th>\n",
              "      <td>3</td>\n",
              "      <td>I agree</td>\n",
              "      <td>I am a developer by profession</td>\n",
              "      <td>45-54 years old</td>\n",
              "      <td>Employed, full-time</td>\n",
              "      <td>Hybrid (some remote, some in-person)</td>\n",
              "      <td>Hobby;Professional development or self-paced l...</td>\n",
              "      <td>Bachelor’s degree (B.A., B.S., B.Eng., etc.)</td>\n",
              "      <td>Books / Physical media;Colleague;On the job tr...</td>\n",
              "      <td>Formal documentation provided by the owner of ...</td>\n",
              "      <td>...</td>\n",
              "      <td>6-10 times a week</td>\n",
              "      <td>6-10 times a week</td>\n",
              "      <td>3-5 times a week</td>\n",
              "      <td>30-60 minutes a day</td>\n",
              "      <td>30-60 minutes a day</td>\n",
              "      <td>DevOps function;Microservices;Automated testin...</td>\n",
              "      <td>Information Services, IT, Software Development...</td>\n",
              "      <td>Appropriate in length</td>\n",
              "      <td>Easy</td>\n",
              "      <td>250000.0</td>\n",
              "    </tr>\n",
              "    <tr>\n",
              "      <th>3</th>\n",
              "      <td>4</td>\n",
              "      <td>I agree</td>\n",
              "      <td>I am a developer by profession</td>\n",
              "      <td>25-34 years old</td>\n",
              "      <td>Employed, full-time</td>\n",
              "      <td>Hybrid (some remote, some in-person)</td>\n",
              "      <td>Hobby</td>\n",
              "      <td>Bachelor’s degree (B.A., B.S., B.Eng., etc.)</td>\n",
              "      <td>Colleague;Friend or family member;Other online...</td>\n",
              "      <td>Formal documentation provided by the owner of ...</td>\n",
              "      <td>...</td>\n",
              "      <td>1-2 times a week</td>\n",
              "      <td>10+ times a week</td>\n",
              "      <td>1-2 times a week</td>\n",
              "      <td>15-30 minutes a day</td>\n",
              "      <td>30-60 minutes a day</td>\n",
              "      <td>Automated testing;Continuous integration (CI) ...</td>\n",
              "      <td>NaN</td>\n",
              "      <td>Appropriate in length</td>\n",
              "      <td>Easy</td>\n",
              "      <td>156000.0</td>\n",
              "    </tr>\n",
              "    <tr>\n",
              "      <th>4</th>\n",
              "      <td>5</td>\n",
              "      <td>I agree</td>\n",
              "      <td>I am a developer by profession</td>\n",
              "      <td>25-34 years old</td>\n",
              "      <td>Employed, full-time;Independent contractor, fr...</td>\n",
              "      <td>Remote</td>\n",
              "      <td>Hobby;Contribute to open-source projects;Profe...</td>\n",
              "      <td>Bachelor’s degree (B.A., B.S., B.Eng., etc.)</td>\n",
              "      <td>Books / Physical media;Online Courses or Certi...</td>\n",
              "      <td>Formal documentation provided by the owner of ...</td>\n",
              "      <td>...</td>\n",
              "      <td>1-2 times a week</td>\n",
              "      <td>1-2 times a week</td>\n",
              "      <td>3-5 times a week</td>\n",
              "      <td>60-120 minutes a day</td>\n",
              "      <td>30-60 minutes a day</td>\n",
              "      <td>Microservices;Automated testing;Observability ...</td>\n",
              "      <td>Other</td>\n",
              "      <td>Appropriate in length</td>\n",
              "      <td>Neither easy nor difficult</td>\n",
              "      <td>23456.0</td>\n",
              "    </tr>\n",
              "  </tbody>\n",
              "</table>\n",
              "<p>5 rows × 84 columns</p>\n",
              "</div>\n",
              "    <div class=\"colab-df-buttons\">\n",
              "\n",
              "  <div class=\"colab-df-container\">\n",
              "    <button class=\"colab-df-convert\" onclick=\"convertToInteractive('df-85802cb4-d328-42aa-b4a1-1bb6b34e992c')\"\n",
              "            title=\"Convert this dataframe to an interactive table.\"\n",
              "            style=\"display:none;\">\n",
              "\n",
              "  <svg xmlns=\"http://www.w3.org/2000/svg\" height=\"24px\" viewBox=\"0 -960 960 960\">\n",
              "    <path d=\"M120-120v-720h720v720H120Zm60-500h600v-160H180v160Zm220 220h160v-160H400v160Zm0 220h160v-160H400v160ZM180-400h160v-160H180v160Zm440 0h160v-160H620v160ZM180-180h160v-160H180v160Zm440 0h160v-160H620v160Z\"/>\n",
              "  </svg>\n",
              "    </button>\n",
              "\n",
              "  <style>\n",
              "    .colab-df-container {\n",
              "      display:flex;\n",
              "      gap: 12px;\n",
              "    }\n",
              "\n",
              "    .colab-df-convert {\n",
              "      background-color: #E8F0FE;\n",
              "      border: none;\n",
              "      border-radius: 50%;\n",
              "      cursor: pointer;\n",
              "      display: none;\n",
              "      fill: #1967D2;\n",
              "      height: 32px;\n",
              "      padding: 0 0 0 0;\n",
              "      width: 32px;\n",
              "    }\n",
              "\n",
              "    .colab-df-convert:hover {\n",
              "      background-color: #E2EBFA;\n",
              "      box-shadow: 0px 1px 2px rgba(60, 64, 67, 0.3), 0px 1px 3px 1px rgba(60, 64, 67, 0.15);\n",
              "      fill: #174EA6;\n",
              "    }\n",
              "\n",
              "    .colab-df-buttons div {\n",
              "      margin-bottom: 4px;\n",
              "    }\n",
              "\n",
              "    [theme=dark] .colab-df-convert {\n",
              "      background-color: #3B4455;\n",
              "      fill: #D2E3FC;\n",
              "    }\n",
              "\n",
              "    [theme=dark] .colab-df-convert:hover {\n",
              "      background-color: #434B5C;\n",
              "      box-shadow: 0px 1px 3px 1px rgba(0, 0, 0, 0.15);\n",
              "      filter: drop-shadow(0px 1px 2px rgba(0, 0, 0, 0.3));\n",
              "      fill: #FFFFFF;\n",
              "    }\n",
              "  </style>\n",
              "\n",
              "    <script>\n",
              "      const buttonEl =\n",
              "        document.querySelector('#df-85802cb4-d328-42aa-b4a1-1bb6b34e992c button.colab-df-convert');\n",
              "      buttonEl.style.display =\n",
              "        google.colab.kernel.accessAllowed ? 'block' : 'none';\n",
              "\n",
              "      async function convertToInteractive(key) {\n",
              "        const element = document.querySelector('#df-85802cb4-d328-42aa-b4a1-1bb6b34e992c');\n",
              "        const dataTable =\n",
              "          await google.colab.kernel.invokeFunction('convertToInteractive',\n",
              "                                                    [key], {});\n",
              "        if (!dataTable) return;\n",
              "\n",
              "        const docLinkHtml = 'Like what you see? Visit the ' +\n",
              "          '<a target=\"_blank\" href=https://colab.research.google.com/notebooks/data_table.ipynb>data table notebook</a>'\n",
              "          + ' to learn more about interactive tables.';\n",
              "        element.innerHTML = '';\n",
              "        dataTable['output_type'] = 'display_data';\n",
              "        await google.colab.output.renderOutput(dataTable, element);\n",
              "        const docLink = document.createElement('div');\n",
              "        docLink.innerHTML = docLinkHtml;\n",
              "        element.appendChild(docLink);\n",
              "      }\n",
              "    </script>\n",
              "  </div>\n",
              "\n",
              "\n",
              "<div id=\"df-680a59da-13d4-4f1f-9320-f4bae6f06174\">\n",
              "  <button class=\"colab-df-quickchart\" onclick=\"quickchart('df-680a59da-13d4-4f1f-9320-f4bae6f06174')\"\n",
              "            title=\"Suggest charts\"\n",
              "            style=\"display:none;\">\n",
              "\n",
              "<svg xmlns=\"http://www.w3.org/2000/svg\" height=\"24px\"viewBox=\"0 0 24 24\"\n",
              "     width=\"24px\">\n",
              "    <g>\n",
              "        <path d=\"M19 3H5c-1.1 0-2 .9-2 2v14c0 1.1.9 2 2 2h14c1.1 0 2-.9 2-2V5c0-1.1-.9-2-2-2zM9 17H7v-7h2v7zm4 0h-2V7h2v10zm4 0h-2v-4h2v4z\"/>\n",
              "    </g>\n",
              "</svg>\n",
              "  </button>\n",
              "\n",
              "<style>\n",
              "  .colab-df-quickchart {\n",
              "      --bg-color: #E8F0FE;\n",
              "      --fill-color: #1967D2;\n",
              "      --hover-bg-color: #E2EBFA;\n",
              "      --hover-fill-color: #174EA6;\n",
              "      --disabled-fill-color: #AAA;\n",
              "      --disabled-bg-color: #DDD;\n",
              "  }\n",
              "\n",
              "  [theme=dark] .colab-df-quickchart {\n",
              "      --bg-color: #3B4455;\n",
              "      --fill-color: #D2E3FC;\n",
              "      --hover-bg-color: #434B5C;\n",
              "      --hover-fill-color: #FFFFFF;\n",
              "      --disabled-bg-color: #3B4455;\n",
              "      --disabled-fill-color: #666;\n",
              "  }\n",
              "\n",
              "  .colab-df-quickchart {\n",
              "    background-color: var(--bg-color);\n",
              "    border: none;\n",
              "    border-radius: 50%;\n",
              "    cursor: pointer;\n",
              "    display: none;\n",
              "    fill: var(--fill-color);\n",
              "    height: 32px;\n",
              "    padding: 0;\n",
              "    width: 32px;\n",
              "  }\n",
              "\n",
              "  .colab-df-quickchart:hover {\n",
              "    background-color: var(--hover-bg-color);\n",
              "    box-shadow: 0 1px 2px rgba(60, 64, 67, 0.3), 0 1px 3px 1px rgba(60, 64, 67, 0.15);\n",
              "    fill: var(--button-hover-fill-color);\n",
              "  }\n",
              "\n",
              "  .colab-df-quickchart-complete:disabled,\n",
              "  .colab-df-quickchart-complete:disabled:hover {\n",
              "    background-color: var(--disabled-bg-color);\n",
              "    fill: var(--disabled-fill-color);\n",
              "    box-shadow: none;\n",
              "  }\n",
              "\n",
              "  .colab-df-spinner {\n",
              "    border: 2px solid var(--fill-color);\n",
              "    border-color: transparent;\n",
              "    border-bottom-color: var(--fill-color);\n",
              "    animation:\n",
              "      spin 1s steps(1) infinite;\n",
              "  }\n",
              "\n",
              "  @keyframes spin {\n",
              "    0% {\n",
              "      border-color: transparent;\n",
              "      border-bottom-color: var(--fill-color);\n",
              "      border-left-color: var(--fill-color);\n",
              "    }\n",
              "    20% {\n",
              "      border-color: transparent;\n",
              "      border-left-color: var(--fill-color);\n",
              "      border-top-color: var(--fill-color);\n",
              "    }\n",
              "    30% {\n",
              "      border-color: transparent;\n",
              "      border-left-color: var(--fill-color);\n",
              "      border-top-color: var(--fill-color);\n",
              "      border-right-color: var(--fill-color);\n",
              "    }\n",
              "    40% {\n",
              "      border-color: transparent;\n",
              "      border-right-color: var(--fill-color);\n",
              "      border-top-color: var(--fill-color);\n",
              "    }\n",
              "    60% {\n",
              "      border-color: transparent;\n",
              "      border-right-color: var(--fill-color);\n",
              "    }\n",
              "    80% {\n",
              "      border-color: transparent;\n",
              "      border-right-color: var(--fill-color);\n",
              "      border-bottom-color: var(--fill-color);\n",
              "    }\n",
              "    90% {\n",
              "      border-color: transparent;\n",
              "      border-bottom-color: var(--fill-color);\n",
              "    }\n",
              "  }\n",
              "</style>\n",
              "\n",
              "  <script>\n",
              "    async function quickchart(key) {\n",
              "      const quickchartButtonEl =\n",
              "        document.querySelector('#' + key + ' button');\n",
              "      quickchartButtonEl.disabled = true;  // To prevent multiple clicks.\n",
              "      quickchartButtonEl.classList.add('colab-df-spinner');\n",
              "      try {\n",
              "        const charts = await google.colab.kernel.invokeFunction(\n",
              "            'suggestCharts', [key], {});\n",
              "      } catch (error) {\n",
              "        console.error('Error during call to suggestCharts:', error);\n",
              "      }\n",
              "      quickchartButtonEl.classList.remove('colab-df-spinner');\n",
              "      quickchartButtonEl.classList.add('colab-df-quickchart-complete');\n",
              "    }\n",
              "    (() => {\n",
              "      let quickchartButtonEl =\n",
              "        document.querySelector('#df-680a59da-13d4-4f1f-9320-f4bae6f06174 button');\n",
              "      quickchartButtonEl.style.display =\n",
              "        google.colab.kernel.accessAllowed ? 'block' : 'none';\n",
              "    })();\n",
              "  </script>\n",
              "</div>\n",
              "\n",
              "    </div>\n",
              "  </div>\n"
            ],
            "text/plain": [
              "   ResponseId     Q120                      MainBranch              Age  \\\n",
              "0           1  I agree                   None of these  18-24 years old   \n",
              "1           2  I agree  I am a developer by profession  25-34 years old   \n",
              "2           3  I agree  I am a developer by profession  45-54 years old   \n",
              "3           4  I agree  I am a developer by profession  25-34 years old   \n",
              "4           5  I agree  I am a developer by profession  25-34 years old   \n",
              "\n",
              "                                          Employment  \\\n",
              "0                                                NaN   \n",
              "1                                Employed, full-time   \n",
              "2                                Employed, full-time   \n",
              "3                                Employed, full-time   \n",
              "4  Employed, full-time;Independent contractor, fr...   \n",
              "\n",
              "                             RemoteWork  \\\n",
              "0                                   NaN   \n",
              "1                                Remote   \n",
              "2  Hybrid (some remote, some in-person)   \n",
              "3  Hybrid (some remote, some in-person)   \n",
              "4                                Remote   \n",
              "\n",
              "                                    CodingActivities  \\\n",
              "0                                                NaN   \n",
              "1  Hobby;Contribute to open-source projects;Boots...   \n",
              "2  Hobby;Professional development or self-paced l...   \n",
              "3                                              Hobby   \n",
              "4  Hobby;Contribute to open-source projects;Profe...   \n",
              "\n",
              "                                        EdLevel  \\\n",
              "0                                           NaN   \n",
              "1  Bachelor’s degree (B.A., B.S., B.Eng., etc.)   \n",
              "2  Bachelor’s degree (B.A., B.S., B.Eng., etc.)   \n",
              "3  Bachelor’s degree (B.A., B.S., B.Eng., etc.)   \n",
              "4  Bachelor’s degree (B.A., B.S., B.Eng., etc.)   \n",
              "\n",
              "                                           LearnCode  \\\n",
              "0                                                NaN   \n",
              "1  Books / Physical media;Colleague;Friend or fam...   \n",
              "2  Books / Physical media;Colleague;On the job tr...   \n",
              "3  Colleague;Friend or family member;Other online...   \n",
              "4  Books / Physical media;Online Courses or Certi...   \n",
              "\n",
              "                                     LearnCodeOnline  ...        Frequency_1  \\\n",
              "0                                                NaN  ...                NaN   \n",
              "1  Formal documentation provided by the owner of ...  ...   1-2 times a week   \n",
              "2  Formal documentation provided by the owner of ...  ...  6-10 times a week   \n",
              "3  Formal documentation provided by the owner of ...  ...   1-2 times a week   \n",
              "4  Formal documentation provided by the owner of ...  ...   1-2 times a week   \n",
              "\n",
              "         Frequency_2       Frequency_3         TimeSearching  \\\n",
              "0                NaN               NaN                   NaN   \n",
              "1   10+ times a week             Never   15-30 minutes a day   \n",
              "2  6-10 times a week  3-5 times a week   30-60 minutes a day   \n",
              "3   10+ times a week  1-2 times a week   15-30 minutes a day   \n",
              "4   1-2 times a week  3-5 times a week  60-120 minutes a day   \n",
              "\n",
              "         TimeAnswering                                   ProfessionalTech  \\\n",
              "0                  NaN                                                NaN   \n",
              "1  15-30 minutes a day  DevOps function;Microservices;Automated testin...   \n",
              "2  30-60 minutes a day  DevOps function;Microservices;Automated testin...   \n",
              "3  30-60 minutes a day  Automated testing;Continuous integration (CI) ...   \n",
              "4  30-60 minutes a day  Microservices;Automated testing;Observability ...   \n",
              "\n",
              "                                            Industry           SurveyLength  \\\n",
              "0                                                NaN                    NaN   \n",
              "1  Information Services, IT, Software Development...  Appropriate in length   \n",
              "2  Information Services, IT, Software Development...  Appropriate in length   \n",
              "3                                                NaN  Appropriate in length   \n",
              "4                                              Other  Appropriate in length   \n",
              "\n",
              "                   SurveyEase ConvertedCompYearly  \n",
              "0                         NaN                 NaN  \n",
              "1                        Easy            285000.0  \n",
              "2                        Easy            250000.0  \n",
              "3                        Easy            156000.0  \n",
              "4  Neither easy nor difficult             23456.0  \n",
              "\n",
              "[5 rows x 84 columns]"
            ]
          },
          "execution_count": 364,
          "metadata": {},
          "output_type": "execute_result"
        }
      ],
      "source": [
        "df = pd.read_csv('/content/drive/MyDrive/survey_results_public.csv')\n",
        "df.head()"
      ]
    },
    {
      "cell_type": "markdown",
      "metadata": {
        "id": "EHa83Gy4Gwkz"
      },
      "source": [
        "### Data preprocessing"
      ]
    },
    {
      "cell_type": "markdown",
      "metadata": {
        "id": "B24Tb1ojGwkz"
      },
      "source": [
        "- Enccoding categorical features and scaling numerical features"
      ]
    },
    {
      "cell_type": "code",
      "execution_count": 316,
      "metadata": {
        "colab": {
          "base_uri": "https://localhost:8080/"
        },
        "id": "AIWW0eygGwk0",
        "outputId": "726a91d1-6d7a-4e75-d5c1-ed59d01a6524"
      },
      "outputs": [
        {
          "name": "stdout",
          "output_type": "stream",
          "text": [
            "<class 'pandas.core.frame.DataFrame'>\n",
            "RangeIndex: 89184 entries, 0 to 89183\n",
            "Data columns (total 84 columns):\n",
            " #   Column                               Non-Null Count  Dtype  \n",
            "---  ------                               --------------  -----  \n",
            " 0   ResponseId                           89184 non-null  int64  \n",
            " 1   Q120                                 89184 non-null  object \n",
            " 2   MainBranch                           89184 non-null  object \n",
            " 3   Age                                  89184 non-null  object \n",
            " 4   Employment                           87898 non-null  object \n",
            " 5   RemoteWork                           73810 non-null  object \n",
            " 6   CodingActivities                     73764 non-null  object \n",
            " 7   EdLevel                              87973 non-null  object \n",
            " 8   LearnCode                            87663 non-null  object \n",
            " 9   LearnCodeOnline                      70084 non-null  object \n",
            " 10  LearnCodeCoursesCert                 37076 non-null  object \n",
            " 11  YearsCode                            87435 non-null  object \n",
            " 12  YearsCodePro                         66136 non-null  object \n",
            " 13  DevType                              76872 non-null  object \n",
            " 14  OrgSize                              65043 non-null  object \n",
            " 15  PurchaseInfluence                    64964 non-null  object \n",
            " 16  TechList                             60851 non-null  object \n",
            " 17  BuyNewTool                           83009 non-null  object \n",
            " 18  Country                              87973 non-null  object \n",
            " 19  Currency                             65334 non-null  object \n",
            " 20  CompTotal                            48225 non-null  float64\n",
            " 21  LanguageHaveWorkedWith               87140 non-null  object \n",
            " 22  LanguageWantToWorkWith               80709 non-null  object \n",
            " 23  DatabaseHaveWorkedWith               73435 non-null  object \n",
            " 24  DatabaseWantToWorkWith               60911 non-null  object \n",
            " 25  PlatformHaveWorkedWith               63628 non-null  object \n",
            " 26  PlatformWantToWorkWith               51308 non-null  object \n",
            " 27  WebframeHaveWorkedWith               66938 non-null  object \n",
            " 28  WebframeWantToWorkWith               56741 non-null  object \n",
            " 29  MiscTechHaveWorkedWith               57019 non-null  object \n",
            " 30  MiscTechWantToWorkWith               46848 non-null  object \n",
            " 31  ToolsTechHaveWorkedWith              77884 non-null  object \n",
            " 32  ToolsTechWantToWorkWith              68315 non-null  object \n",
            " 33  NEWCollabToolsHaveWorkedWith         85864 non-null  object \n",
            " 34  NEWCollabToolsWantToWorkWith         76649 non-null  object \n",
            " 35  OpSysPersonal use                    86557 non-null  object \n",
            " 36  OpSysProfessional use                78587 non-null  object \n",
            " 37  OfficeStackAsyncHaveWorkedWith       69090 non-null  object \n",
            " 38  OfficeStackAsyncWantToWorkWith       53743 non-null  object \n",
            " 39  OfficeStackSyncHaveWorkedWith        83439 non-null  object \n",
            " 40  OfficeStackSyncWantToWorkWith        69776 non-null  object \n",
            " 41  AISearchHaveWorkedWith               56328 non-null  object \n",
            " 42  AISearchWantToWorkWith               46150 non-null  object \n",
            " 43  AIDevHaveWorkedWith                  25904 non-null  object \n",
            " 44  AIDevWantToWorkWith                  19587 non-null  object \n",
            " 45  NEWSOSites                           87973 non-null  object \n",
            " 46  SOVisitFreq                          87140 non-null  object \n",
            " 47  SOAccount                            87852 non-null  object \n",
            " 48  SOPartFreq                           66061 non-null  object \n",
            " 49  SOComm                               87692 non-null  object \n",
            " 50  SOAI                                 47858 non-null  object \n",
            " 51  AISelect                             87973 non-null  object \n",
            " 52  AISent                               61501 non-null  object \n",
            " 53  AIAcc                                38594 non-null  object \n",
            " 54  AIBen                                61396 non-null  object \n",
            " 55  AIToolInterested in Using            32783 non-null  object \n",
            " 56  AIToolCurrently Using                36137 non-null  object \n",
            " 57  AIToolNot interested in Using        21069 non-null  object \n",
            " 58  AINextVery different                 12661 non-null  object \n",
            " 59  AINextNeither different nor similar  6599 non-null   object \n",
            " 60  AINextSomewhat similar               6238 non-null   object \n",
            " 61  AINextVery similar                   2621 non-null   object \n",
            " 62  AINextSomewhat different             23303 non-null  object \n",
            " 63  TBranch                              65768 non-null  object \n",
            " 64  ICorPM                               43668 non-null  object \n",
            " 65  WorkExp                              43579 non-null  float64\n",
            " 66  Knowledge_1                          42535 non-null  object \n",
            " 67  Knowledge_2                          41670 non-null  object \n",
            " 68  Knowledge_3                          41798 non-null  object \n",
            " 69  Knowledge_4                          41684 non-null  object \n",
            " 70  Knowledge_5                          41527 non-null  object \n",
            " 71  Knowledge_6                          41520 non-null  object \n",
            " 72  Knowledge_7                          41467 non-null  object \n",
            " 73  Knowledge_8                          41404 non-null  object \n",
            " 74  Frequency_1                          41916 non-null  object \n",
            " 75  Frequency_2                          41925 non-null  object \n",
            " 76  Frequency_3                          41054 non-null  object \n",
            " 77  TimeSearching                        42778 non-null  object \n",
            " 78  TimeAnswering                        42629 non-null  object \n",
            " 79  ProfessionalTech                     41783 non-null  object \n",
            " 80  Industry                             36774 non-null  object \n",
            " 81  SurveyLength                         86485 non-null  object \n",
            " 82  SurveyEase                           86554 non-null  object \n",
            " 83  ConvertedCompYearly                  48019 non-null  float64\n",
            "dtypes: float64(3), int64(1), object(80)\n",
            "memory usage: 57.2+ MB\n"
          ]
        }
      ],
      "source": [
        "\n",
        "df.info()"
      ]
    },
    {
      "cell_type": "markdown",
      "metadata": {
        "id": "Lh0HGt09Gwk0"
      },
      "source": [
        "Since we want to cluster relevant information to guide future devs and IT professionals ; these are some of the clusters are relevent.\n",
        "\n",
        "### Job profiles and roles\n",
        "- `DevType`: This column represents the type of developer or IT professional the respondent identifies as, which is crucial for understanding job profiles.\n",
        "- `MainBranch`: Indicates the primary focus of the respondent's work (e.g., software development, data science), which is essential for categorizing job profiles.\n",
        "\n",
        "### Skills and Technologies\n",
        "- `LanguageHaveWorkedWith`: Lists programming languages the respondent has experience with, which is key for matching job profiles to skills\n",
        "- `DatabaseHaveWorkedWith`: Similar to programming languages, these columns focus on database technologies\n",
        "- `PlatformHaveWorkedWith`: Platforms (e.g., cloud services) the respondent has experience with or is interested in.\n",
        "- `ToolsTechHaveWorkedWith`: Tools and technologies used in professional work.\n",
        "- `AISearchHaveWorkedWith`: AI search technologies the respondent has experience with or is interested in.\n",
        "- `AIDevHaveWorkedWith`: AI development tools the respondent has used or wants to learn.\n",
        "\n",
        "### Experience and Education\n",
        "- `YearsCode`: Total years of coding experience, which helps in gauging expertise levels.\n",
        "- `YearsCodePro`: Professional coding experience, important for understanding skill maturity.\n",
        "- `EdLevel`: The respondent’s education level, which could correlate with job profiles and career paths.\n",
        "- `LearnCodeCoursesCert`: Information on whether the respondent has taken courses or certifications, relevant for students seeking similar paths.\n",
        "\n",
        "### Technology Adoption and Usage\n",
        "- `ProfessionalTech`: Technologies used professionally, relevant for matching skills to job profiles.\n",
        "- `Industry`: The industry the respondent works in, which might influence the type of technologies used and required skills.\n",
        "\n"
      ]
    },
    {
      "cell_type": "code",
      "execution_count": 365,
      "metadata": {
        "id": "VSM5_vItGwk1"
      },
      "outputs": [],
      "source": [
        "# picking relevant columns\n",
        "\n",
        "columns = ['DevType', 'LanguageHaveWorkedWith', 'DatabaseHaveWorkedWith',\n",
        "           'PlatformHaveWorkedWith','ToolsTechHaveWorkedWith','AISearchHaveWorkedWith' ,\n",
        "           'AIDevHaveWorkedWith','YearsCodePro','YearsCode','EdLevel','LearnCodeCoursesCert','ProfessionalTech',\n",
        "           'Industry']"
      ]
    },
    {
      "cell_type": "code",
      "execution_count": 366,
      "metadata": {
        "colab": {
          "base_uri": "https://localhost:8080/"
        },
        "id": "D4SDp5bBGwk1",
        "outputId": "08d024e4-f2ed-4626-ecf2-7ffd84fe142b"
      },
      "outputs": [
        {
          "name": "stdout",
          "output_type": "stream",
          "text": [
            "<class 'pandas.core.frame.DataFrame'>\n",
            "RangeIndex: 89184 entries, 0 to 89183\n",
            "Data columns (total 13 columns):\n",
            " #   Column                   Non-Null Count  Dtype \n",
            "---  ------                   --------------  ----- \n",
            " 0   DevType                  76872 non-null  object\n",
            " 1   LanguageHaveWorkedWith   87140 non-null  object\n",
            " 2   DatabaseHaveWorkedWith   73435 non-null  object\n",
            " 3   PlatformHaveWorkedWith   63628 non-null  object\n",
            " 4   ToolsTechHaveWorkedWith  77884 non-null  object\n",
            " 5   AISearchHaveWorkedWith   56328 non-null  object\n",
            " 6   AIDevHaveWorkedWith      25904 non-null  object\n",
            " 7   YearsCodePro             66136 non-null  object\n",
            " 8   YearsCode                87435 non-null  object\n",
            " 9   EdLevel                  87973 non-null  object\n",
            " 10  LearnCodeCoursesCert     37076 non-null  object\n",
            " 11  ProfessionalTech         41783 non-null  object\n",
            " 12  Industry                 36774 non-null  object\n",
            "dtypes: object(13)\n",
            "memory usage: 8.8+ MB\n"
          ]
        }
      ],
      "source": [
        "df = df[columns]\n",
        "\n",
        "df.info()"
      ]
    },
    {
      "cell_type": "code",
      "execution_count": 367,
      "metadata": {
        "id": "RJXUtCeHGwk2"
      },
      "outputs": [],
      "source": [
        "# taking care of missing values\n",
        "df = df.dropna()\n"
      ]
    },
    {
      "cell_type": "code",
      "execution_count": 368,
      "metadata": {
        "id": "WjzTb7UJzKv1"
      },
      "outputs": [],
      "source": [
        "df['YearsCodePro'] = pd.to_numeric(df['YearsCodePro'], errors='coerce')\n",
        "df['YearsCode'] = pd.to_numeric(df['YearsCode'], errors='coerce')"
      ]
    },
    {
      "cell_type": "code",
      "execution_count": 369,
      "metadata": {
        "id": "-fcTbqOF2DWY"
      },
      "outputs": [],
      "source": [
        "df['YearsCodePro'].fillna(0, inplace=True)\n",
        "df['YearsCode'].fillna(0, inplace=True)"
      ]
    },
    {
      "cell_type": "code",
      "execution_count": 370,
      "metadata": {
        "colab": {
          "base_uri": "https://localhost:8080/"
        },
        "id": "BqEcJ9f_Gwk2",
        "outputId": "fe3d768d-5076-47b3-b3e5-45534c349f72"
      },
      "outputs": [
        {
          "name": "stdout",
          "output_type": "stream",
          "text": [
            "<class 'pandas.core.frame.DataFrame'>\n",
            "Index: 3849 entries, 1 to 89183\n",
            "Data columns (total 13 columns):\n",
            " #   Column                   Non-Null Count  Dtype  \n",
            "---  ------                   --------------  -----  \n",
            " 0   DevType                  3849 non-null   object \n",
            " 1   LanguageHaveWorkedWith   3849 non-null   object \n",
            " 2   DatabaseHaveWorkedWith   3849 non-null   object \n",
            " 3   PlatformHaveWorkedWith   3849 non-null   object \n",
            " 4   ToolsTechHaveWorkedWith  3849 non-null   object \n",
            " 5   AISearchHaveWorkedWith   3849 non-null   object \n",
            " 6   AIDevHaveWorkedWith      3849 non-null   object \n",
            " 7   YearsCodePro             3849 non-null   float64\n",
            " 8   YearsCode                3849 non-null   float64\n",
            " 9   EdLevel                  3849 non-null   object \n",
            " 10  LearnCodeCoursesCert     3849 non-null   object \n",
            " 11  ProfessionalTech         3849 non-null   object \n",
            " 12  Industry                 3849 non-null   object \n",
            "dtypes: float64(2), object(11)\n",
            "memory usage: 421.0+ KB\n"
          ]
        }
      ],
      "source": [
        "df.info()"
      ]
    },
    {
      "cell_type": "code",
      "execution_count": 371,
      "metadata": {
        "colab": {
          "base_uri": "https://localhost:8080/"
        },
        "id": "Q2MjZFSzVtjI",
        "outputId": "8bfb6f91-72c5-4834-c804-c9e6344ba8eb"
      },
      "outputs": [
        {
          "data": {
            "text/plain": [
              "array(['Senior Executive (C-Suite, VP, etc.)', 'Developer, back-end',\n",
              "       'Developer, full-stack', 'Engineer, data', 'Engineering manager',\n",
              "       'Cloud infrastructure engineer', 'Developer, mobile',\n",
              "       'Research & Development role', 'Blockchain', 'DevOps specialist',\n",
              "       'Data scientist or machine learning specialist',\n",
              "       'Other (please specify):', 'Developer, QA or test',\n",
              "       'Developer, front-end', 'Academic researcher',\n",
              "       'Developer, desktop or enterprise applications',\n",
              "       'System administrator', 'Developer Experience',\n",
              "       'Engineer, site reliability', 'Security professional',\n",
              "       'Project manager', 'Educator', 'Database administrator',\n",
              "       'Developer, game or graphics', 'Developer Advocate',\n",
              "       'Developer, embedded applications or devices', 'Product manager',\n",
              "       'Data or business analyst', 'Student', 'Designer', 'Scientist',\n",
              "       'Marketing or sales professional', 'Hardware Engineer'],\n",
              "      dtype=object)"
            ]
          },
          "execution_count": 371,
          "metadata": {},
          "output_type": "execute_result"
        }
      ],
      "source": [
        "df['DevType'].unique()"
      ]
    },
    {
      "cell_type": "code",
      "execution_count": 322,
      "metadata": {
        "colab": {
          "base_uri": "https://localhost:8080/"
        },
        "id": "zR9f6pQyZMQ_",
        "outputId": "2ddd1c82-a8e8-4c80-91f4-99b390f32215"
      },
      "outputs": [
        {
          "data": {
            "text/plain": [
              "array(['',\n",
              "       'Information Services, IT, Software Development, or other Technology',\n",
              "       'Other', 'Financial Services',\n",
              "       'Manufacturing, Transportation, or Supply Chain',\n",
              "       'Retail and Consumer Services', 'Higher Education',\n",
              "       'Legal Services', 'Insurance', 'Healthcare', 'Oil & Gas',\n",
              "       'Wholesale', 'Advertising Services'], dtype=object)"
            ]
          },
          "execution_count": 322,
          "metadata": {},
          "output_type": "execute_result"
        }
      ],
      "source": [
        "df['Industry'].unique()"
      ]
    },
    {
      "cell_type": "markdown",
      "metadata": {
        "id": "CwsKTEl0Gwk2"
      },
      "source": [
        "- Apply MultilabelBinarizer for multiple category columns"
      ]
    },
    {
      "cell_type": "code",
      "execution_count": 372,
      "metadata": {
        "id": "fttRuPklGwk3"
      },
      "outputs": [],
      "source": [
        "mlb = MultiLabelBinarizer()\n",
        "\n",
        "# features with multiple values\n",
        "\n",
        "multi_category_features = ['LanguageHaveWorkedWith','DatabaseHaveWorkedWith','PlatformHaveWorkedWith',\n",
        "                          'ToolsTechHaveWorkedWith','AISearchHaveWorkedWith','LearnCodeCoursesCert','ProfessionalTech',\n",
        "                          'AIDevHaveWorkedWith','ProfessionalTech']\n"
      ]
    },
    {
      "cell_type": "markdown",
      "metadata": {
        "id": "GVqY1DaSGwk3"
      },
      "source": [
        "- Splitting the semicolon-separated values and using multilabelbinarizer to encode them\n"
      ]
    },
    {
      "cell_type": "code",
      "execution_count": 373,
      "metadata": {
        "id": "U0flshx0Gwk3"
      },
      "outputs": [],
      "source": [
        "# Multi-category feature encoding\n",
        "for col in multi_category_features:\n",
        "    df[col] = df[col].apply(lambda x: x.split(';') if isinstance(x, str) else x)\n",
        "\n",
        "for col in multi_category_features:\n",
        "    mlb_output = mlb.fit_transform(df[col])\n",
        "    mlb_df = pd.DataFrame(mlb_output, columns=[f\"{col}_{cls}\" for cls in mlb.classes_])\n",
        "    df = df.join(mlb_df, rsuffix=f\"_{col}\")"
      ]
    },
    {
      "cell_type": "code",
      "execution_count": 374,
      "metadata": {
        "id": "uFnw9PuXGwk3"
      },
      "outputs": [],
      "source": [
        "# onehot encoding single entry columns\n",
        "single_entry_features = ['DevType', 'EdLevel', 'Industry']\n",
        "\n",
        "df_encoded = pd.get_dummies(df, columns=single_entry_features)\n"
      ]
    },
    {
      "cell_type": "code",
      "execution_count": 375,
      "metadata": {
        "id": "9IWqLv-7Gwk3"
      },
      "outputs": [],
      "source": [
        "# drop original multi-category columns\n",
        "df.drop(columns=multi_category_features,axis=1,inplace=True)\n",
        "\n",
        "# Concatenate the new features with the original DataFrame\n",
        "df_final = pd.concat([df, df_encoded], axis=1)\n",
        "\n",
        "\n"
      ]
    },
    {
      "cell_type": "code",
      "execution_count": null,
      "metadata": {
        "id": "tJulQYoo2pv5"
      },
      "outputs": [],
      "source": []
    },
    {
      "cell_type": "code",
      "execution_count": 376,
      "metadata": {
        "colab": {
          "base_uri": "https://localhost:8080/"
        },
        "id": "1N7hngJ1z0Js",
        "outputId": "93319cc3-ea0c-41d9-bbf5-b76c8ac96676"
      },
      "outputs": [
        {
          "name": "stdout",
          "output_type": "stream",
          "text": [
            "Index(['DevType', 'YearsCodePro', 'YearsCode', 'EdLevel', 'Industry',\n",
            "       'LanguageHaveWorkedWith_APL', 'LanguageHaveWorkedWith_Ada',\n",
            "       'LanguageHaveWorkedWith_Apex', 'LanguageHaveWorkedWith_Assembly',\n",
            "       'LanguageHaveWorkedWith_Bash/Shell (all shells)',\n",
            "       ...\n",
            "       'Industry_Healthcare', 'Industry_Higher Education',\n",
            "       'Industry_Information Services, IT, Software Development, or other Technology',\n",
            "       'Industry_Insurance', 'Industry_Legal Services',\n",
            "       'Industry_Manufacturing, Transportation, or Supply Chain',\n",
            "       'Industry_Oil & Gas', 'Industry_Other',\n",
            "       'Industry_Retail and Consumer Services', 'Industry_Wholesale'],\n",
            "      dtype='object', length=484)\n",
            "DevType                                                     object\n",
            "YearsCodePro                                               float64\n",
            "YearsCode                                                  float64\n",
            "EdLevel                                                     object\n",
            "Industry                                                    object\n",
            "                                                            ...   \n",
            "Industry_Manufacturing, Transportation, or Supply Chain       bool\n",
            "Industry_Oil & Gas                                            bool\n",
            "Industry_Other                                                bool\n",
            "Industry_Retail and Consumer Services                         bool\n",
            "Industry_Wholesale                                            bool\n",
            "Length: 484, dtype: object\n",
            "                                 DevType  YearsCodePro  YearsCode  \\\n",
            "1   Senior Executive (C-Suite, VP, etc.)           9.0       18.0   \n",
            "5                    Developer, back-end          21.0       21.0   \n",
            "6                  Developer, full-stack           3.0        4.0   \n",
            "7                  Developer, full-stack           3.0        5.0   \n",
            "19                 Developer, full-stack          14.0       24.0   \n",
            "\n",
            "                                              EdLevel  \\\n",
            "1        Bachelor’s degree (B.A., B.S., B.Eng., etc.)   \n",
            "5   Some college/university study without earning ...   \n",
            "6   Some college/university study without earning ...   \n",
            "7        Bachelor’s degree (B.A., B.S., B.Eng., etc.)   \n",
            "19  Some college/university study without earning ...   \n",
            "\n",
            "                                             Industry  \\\n",
            "1   Information Services, IT, Software Development...   \n",
            "5                                               Other   \n",
            "6   Information Services, IT, Software Development...   \n",
            "7                                  Financial Services   \n",
            "19  Information Services, IT, Software Development...   \n",
            "\n",
            "    LanguageHaveWorkedWith_APL  LanguageHaveWorkedWith_Ada  \\\n",
            "1                          0.0                         0.0   \n",
            "5                          0.0                         0.0   \n",
            "6                          0.0                         0.0   \n",
            "7                          0.0                         0.0   \n",
            "19                         0.0                         0.0   \n",
            "\n",
            "    LanguageHaveWorkedWith_Apex  LanguageHaveWorkedWith_Assembly  \\\n",
            "1                           0.0                              0.0   \n",
            "5                           0.0                              0.0   \n",
            "6                           0.0                              0.0   \n",
            "7                           0.0                              0.0   \n",
            "19                          0.0                              0.0   \n",
            "\n",
            "    LanguageHaveWorkedWith_Bash/Shell (all shells)  ...  Industry_Healthcare  \\\n",
            "1                                              1.0  ...                False   \n",
            "5                                              1.0  ...                False   \n",
            "6                                              0.0  ...                False   \n",
            "7                                              1.0  ...                False   \n",
            "19                                             0.0  ...                False   \n",
            "\n",
            "    Industry_Higher Education  \\\n",
            "1                       False   \n",
            "5                       False   \n",
            "6                       False   \n",
            "7                       False   \n",
            "19                      False   \n",
            "\n",
            "    Industry_Information Services, IT, Software Development, or other Technology  \\\n",
            "1                                                True                              \n",
            "5                                               False                              \n",
            "6                                                True                              \n",
            "7                                               False                              \n",
            "19                                               True                              \n",
            "\n",
            "    Industry_Insurance  Industry_Legal Services  \\\n",
            "1                False                    False   \n",
            "5                False                    False   \n",
            "6                False                    False   \n",
            "7                False                    False   \n",
            "19               False                    False   \n",
            "\n",
            "    Industry_Manufacturing, Transportation, or Supply Chain  \\\n",
            "1                                               False         \n",
            "5                                               False         \n",
            "6                                               False         \n",
            "7                                               False         \n",
            "19                                              False         \n",
            "\n",
            "    Industry_Oil & Gas  Industry_Other  Industry_Retail and Consumer Services  \\\n",
            "1                False           False                                  False   \n",
            "5                False            True                                  False   \n",
            "6                False           False                                  False   \n",
            "7                False           False                                  False   \n",
            "19               False           False                                  False   \n",
            "\n",
            "    Industry_Wholesale  \n",
            "1                False  \n",
            "5                False  \n",
            "6                False  \n",
            "7                False  \n",
            "19               False  \n",
            "\n",
            "[5 rows x 484 columns]\n"
          ]
        }
      ],
      "source": [
        "# Check column existence and data types\n",
        "print(df_final.columns)\n",
        "print(df_final.dtypes)\n",
        "print(df_final.head())"
      ]
    },
    {
      "cell_type": "code",
      "execution_count": 377,
      "metadata": {
        "id": "i8l60K130uc0"
      },
      "outputs": [],
      "source": [
        "df_final = df_final.apply(lambda x: x.astype(int) if x.dtype == 'bool' else x)\n",
        "# Ensure all remaining columns are numeric\n",
        "df_final = df_final.apply(pd.to_numeric, errors='coerce')\n"
      ]
    },
    {
      "cell_type": "code",
      "execution_count": 378,
      "metadata": {
        "id": "2fZR639h3rpn"
      },
      "outputs": [],
      "source": [
        " #Fill any remaining NaN values\n",
        "df_final.fillna(0, inplace=True)"
      ]
    },
    {
      "cell_type": "markdown",
      "metadata": {
        "id": "CKwZ4FD9Gwk4"
      },
      "source": [
        "#### Scaling and PCA"
      ]
    },
    {
      "cell_type": "code",
      "execution_count": 379,
      "metadata": {
        "id": "b8PdhblMGwk4"
      },
      "outputs": [],
      "source": [
        "\n",
        "scaler = StandardScaler()\n",
        "scaled_features = scaler.fit_transform(df_final)\n"
      ]
    },
    {
      "cell_type": "markdown",
      "metadata": {
        "id": "WTthMQB-Gwk4"
      },
      "source": [
        "#### Plotting Explained Variance Ratio"
      ]
    },
    {
      "cell_type": "code",
      "execution_count": null,
      "metadata": {
        "id": "SsCKZsCkGwk4"
      },
      "outputs": [],
      "source": [
        "import matplotlib.pyplot as plt\n",
        "from sklearn.decomposition import PCA\n",
        "\n",
        "# Fit PCA without specifying n_components to get the explained variance ratio\n",
        "pca_full = PCA().fit(scaled_features)\n",
        "\n",
        "# Plot cumulative explained variance\n",
        "plt.figure(figsize=(8, 5))\n",
        "plt.plot(range(1, len(pca_full.explained_variance_ratio_) + 1),\n",
        "         pca_full.explained_variance_ratio_.cumsum(), marker='o', linestyle='--')\n",
        "plt.title('Cumulative Explained Variance by PCA Components')\n",
        "plt.xlabel('Number of Components')\n",
        "plt.ylabel('Cumulative Explained Variance')\n",
        "plt.axhline(y=0.90, color='r', linestyle='--')  # Add a line for 90% variance\n",
        "plt.show()\n"
      ]
    },
    {
      "cell_type": "markdown",
      "metadata": {
        "id": "vTPdRJJVGwk4"
      },
      "source": [
        "- Based on the cumulative explained variance plot, the optimal number of n_components is the point at which the cumulative explained variance reaches or slightly exceeds the desired threshold, often set around 90%"
      ]
    },
    {
      "cell_type": "code",
      "execution_count": null,
      "metadata": {
        "id": "-8EIkiiGGwk4"
      },
      "outputs": [],
      "source": [
        "# Plot the explained variance of each component\n",
        "plt.figure(figsize=(8, 5))\n",
        "plt.plot(range(1, len(pca_full.explained_variance_ratio_) + 1),\n",
        "         pca_full.explained_variance_ratio_, marker='o', linestyle='--')\n",
        "plt.title('Scree Plot')\n",
        "plt.xlabel('Component Number')\n",
        "plt.ylabel('Explained Variance')\n",
        "plt.show()\n"
      ]
    },
    {
      "cell_type": "markdown",
      "metadata": {
        "id": "StohZnUOGwk5"
      },
      "source": [
        "- A scree plot helps in determining the optimal number of principal components to retain.\n",
        "- Look for where the curve flattens; this is typically the optimal number of components.\n",
        "-"
      ]
    },
    {
      "cell_type": "code",
      "execution_count": 380,
      "metadata": {
        "id": "3KGz1XdfGwk5"
      },
      "outputs": [],
      "source": [
        "# from the above 2 plots we can conclude that a n_components=6 is good\n",
        "# Apply PCA to reduce dimensionality\n",
        "pca = PCA(n_components=3)\n",
        "pca_features = pca.fit_transform(scaled_features)"
      ]
    },
    {
      "cell_type": "markdown",
      "metadata": {
        "id": "6q2P-g9_ZOw2"
      },
      "source": []
    },
    {
      "cell_type": "code",
      "execution_count": null,
      "metadata": {
        "id": "yIrXJeW6n5_c"
      },
      "outputs": [],
      "source": [
        "*,tyld()"
      ]
    },
    {
      "cell_type": "markdown",
      "metadata": {
        "id": "z3PDwsyoGwk5"
      },
      "source": [
        "## Modelling\n",
        "\n",
        "### K-Means clustering"
      ]
    },
    {
      "cell_type": "code",
      "execution_count": null,
      "metadata": {
        "id": "AEvWIQOeGwk5"
      },
      "outputs": [],
      "source": [
        "from sklearn.metrics import silhouette_score\n",
        "\n",
        "# Compute silhouette scores for different numbers of clusters\n",
        "silhouette_scores = []\n",
        "for k in range(2, 11):  # Start from 2 because silhouette score requires at least 2 clusters\n",
        "    kmeans = KMeans(n_clusters=k, random_state=42)\n",
        "    clusters = kmeans.fit_predict(pca_features)\n",
        "    score = silhouette_score(pca_features, clusters)\n",
        "    silhouette_scores.append(score)\n",
        "\n",
        "# Plot the silhouette scores\n",
        "plt.plot(range(2, 11), silhouette_scores, marker='o')\n",
        "plt.xlabel('Number of clusters')\n",
        "plt.ylabel('Silhouette Score')\n",
        "plt.title('Silhouette Score Method')\n",
        "plt.show()\n"
      ]
    },
    {
      "cell_type": "code",
      "execution_count": 381,
      "metadata": {
        "colab": {
          "base_uri": "https://localhost:8080/"
        },
        "id": "LdVlL18idBNX",
        "outputId": "d4cc21d1-4579-4bb6-c079-f63e54abfc07"
      },
      "outputs": [
        {
          "name": "stderr",
          "output_type": "stream",
          "text": [
            "/usr/local/lib/python3.10/dist-packages/sklearn/cluster/_kmeans.py:1416: FutureWarning: The default value of `n_init` will change from 10 to 'auto' in 1.4. Set the value of `n_init` explicitly to suppress the warning\n",
            "  super()._check_params_vs_input(X, default_n_init=10)\n"
          ]
        }
      ],
      "source": [
        "# using k= 3\n",
        "\n",
        "kmeans = KMeans(n_clusters=3, random_state=42)\n",
        "clusters = kmeans.fit_predict(pca_features)\n",
        "\n",
        "df['Cluster'] = clusters\n",
        "\n",
        "df = df.reset_index(drop=True)"
      ]
    },
    {
      "cell_type": "markdown",
      "metadata": {
        "id": "sCwZPuJyfn2l"
      },
      "source": [
        "- Analyze clustering results"
      ]
    },
    {
      "cell_type": "code",
      "execution_count": 382,
      "metadata": {
        "colab": {
          "base_uri": "https://localhost:8080/"
        },
        "id": "lId9cO0bg4D3",
        "outputId": "95530f5f-4212-41e0-c588-93c6c3d45adc"
      },
      "outputs": [
        {
          "name": "stdout",
          "output_type": "stream",
          "text": [
            "Silhouette Score: 0.9700542436113668\n"
          ]
        }
      ],
      "source": [
        "# Evaluate the clustering using the silhouette score\n",
        "silhouette_avg = silhouette_score(pca_features, clusters)\n",
        "print(f'Silhouette Score: {silhouette_avg}')"
      ]
    },
    {
      "cell_type": "markdown",
      "metadata": {
        "id": "wJwp3Wdsoasn"
      },
      "source": [
        "### Recommender system"
      ]
    },
    {
      "cell_type": "code",
      "execution_count": 383,
      "metadata": {
        "colab": {
          "base_uri": "https://localhost:8080/"
        },
        "id": "s0k0HWR5ojtF",
        "outputId": "5eb5508e-cf8f-44bb-8561-9d5ec4ad5fa9"
      },
      "outputs": [
        {
          "name": "stdout",
          "output_type": "stream",
          "text": [
            "                                            DevType Key Skills  YearsCodePro  \\\n",
            "3387                          Developer, full-stack                      2.0   \n",
            "2367  Data scientist or machine learning specialist                      1.0   \n",
            "2608                          Developer, full-stack                      3.0   \n",
            "2838                          Developer, full-stack                      5.0   \n",
            "684                           Developer, full-stack                      4.0   \n",
            "\n",
            "     Industry  Confidence  \n",
            "3387    Other    1.000000  \n",
            "2367    Other    0.999999  \n",
            "2608    Other    0.999998  \n",
            "2838    Other    0.999998  \n",
            "684     Other    0.999998  \n"
          ]
        },
        {
          "name": "stderr",
          "output_type": "stream",
          "text": [
            "/usr/local/lib/python3.10/dist-packages/sklearn/base.py:465: UserWarning: X does not have valid feature names, but StandardScaler was fitted with feature names\n",
            "  warnings.warn(\n"
          ]
        }
      ],
      "source": [
        "relevant_columns = ['YearsCodePro', 'YearsCode', 'LanguageHaveWorkedWith', 'Industry', 'Confidence']\n",
        "\n",
        "# Define the hybrid recommendation function\n",
        "def hybrid_recommend_jobs(student_skills, experience_years, k=5, skill_weight=0.8, exp_weight=0.2):\n",
        "    # Step 1: Encode the student skills to match the original feature space\n",
        "    skills_dict = {skill: 0 for skill in mlb.classes_ if 'LanguageHaveWorkedWith_' + skill in df.columns}  # Only consider available skills\n",
        "    for skill in student_skills:\n",
        "        if skill in skills_dict:\n",
        "            skills_dict[skill] = 1\n",
        "\n",
        "    # Create an array of all the multi-category and other encoded features\n",
        "    multi_category_encoded = np.array(list(skills_dict.values())).reshape(1, -1)\n",
        "\n",
        "    # Step 2: Prepare the rest of the features (e.g., years of experience and any other single entry features)\n",
        "    experience_array = np.full((multi_category_encoded.shape[0], 1), experience_years)\n",
        "\n",
        "    # Combine the multi-category encoded features with years of experience and other features\n",
        "    student_features = np.concatenate([multi_category_encoded, experience_array], axis=1)\n",
        "\n",
        "    # Standardize the student's encoded skills\n",
        "    if student_features.shape[1] != scaled_features.shape[1]:\n",
        "        padding = np.zeros((student_features.shape[0], scaled_features.shape[1] - student_features.shape[1]))\n",
        "        student_features = np.concatenate([student_features, padding], axis=1)\n",
        "\n",
        "    # Scale the student's features\n",
        "    student_features_scaled = scaler.transform(student_features)\n",
        "\n",
        "    # Step 3: Apply PCA to the student's features\n",
        "    student_features_pca = pca.transform(student_features_scaled)\n",
        "\n",
        "    # Step 4: Predict the cluster for the student's skills\n",
        "    cluster_prediction = kmeans.predict(student_features_pca)\n",
        "\n",
        "    # Filter the DataFrame to include only job profiles from the predicted cluster\n",
        "    filtered_df = df[df['Cluster'] == cluster_prediction[0]]  # Cluster filtering\n",
        "\n",
        "    if filtered_df.empty:\n",
        "        print(\"No job profiles found for the given skills.\")\n",
        "        return None\n",
        "\n",
        "    # Align the PCA features with the filtered DataFrame's rows\n",
        "    filtered_pca_features = pca_features[filtered_df.index]\n",
        "\n",
        "    # Step 5: Use Nearest Neighbors to find the top k job profiles within the predicted cluster\n",
        "    knn = NearestNeighbors(n_neighbors=k, metric='cosine')\n",
        "    knn.fit(filtered_pca_features)  # Fit on the PCA features of the filtered DataFrame\n",
        "\n",
        "    distances, indices = knn.kneighbors(student_features_pca)\n",
        "\n",
        "    # Step 6: Return job profiles and confidence scores\n",
        "    recommendations = filtered_df.iloc[indices[0]].copy()\n",
        "    recommendations['Confidence'] = 1 - distances[0]  # Higher confidence for closer matches\n",
        "\n",
        "    # Map binary-encoded skill columns back to readable skills\n",
        "    recommendations['Key Skills'] = recommendations.apply(lambda row: ', '.join([skill for skill in skills_dict if row.get('LanguageHaveWorkedWith_' + skill, 0) == 1]), axis=1)\n",
        "\n",
        "    # Dynamically handle industry columns (check if they exist)\n",
        "    industries = [\n",
        "        'Information Services, IT, Software Development, or other Technology',\n",
        "        'Finance', 'Education', 'Healthcare', 'Manufacturing, Transportation, or Supply Chain', 'Other'\n",
        "    ]\n",
        "    for industry in industries:\n",
        "        industry_col = f\"Industry_{industry}\"\n",
        "        if industry_col not in df.columns:\n",
        "            recommendations[industry_col] = False  # Create a default value if the column doesn't exist\n",
        "\n",
        "    # Extract relevant industry column (only one industry per row for clarity)\n",
        "    recommendations['Industry'] = recommendations.apply(lambda row:\n",
        "        'Information Technology' if row.get('Industry_Information Services, IT, Software Development, or other Technology', False)\n",
        "        else 'Finance' if row.get('Industry_Finance', False)\n",
        "        else 'Education' if row.get('Industry_Education', False)\n",
        "        else 'Healthcare' if row.get('Industry_Healthcare', False)\n",
        "        else 'Manufacturing' if row.get('Industry_Manufacturing, Transportation, or Supply Chain', False)\n",
        "        else 'Other', axis=1)\n",
        "\n",
        "    # Check if 'DevType' exists, otherwise skip or add placeholder\n",
        "    if 'DevType' in df.columns:\n",
        "        recommendations['DevType'] = filtered_df['DevType']\n",
        "    else:\n",
        "        recommendations['DevType'] = 'Unknown'  # Placeholder if 'DevType' is not available\n",
        "\n",
        "    # Return the relevant columns with sorted recommendations by confidence\n",
        "    return recommendations[['DevType', 'Key Skills', 'YearsCodePro', 'Industry', 'Confidence']].sort_values(by='Confidence', ascending=False)\n",
        "\n",
        "# Example usage\n",
        "student_skills = ['Python', 'SQL', 'AWS']  # List of skills\n",
        "experience_years = 5  # Years of experience\n",
        "recommended_jobs = hybrid_recommend_jobs(student_skills, experience_years)\n",
        "print(recommended_jobs)\n",
        "\n"
      ]
    },
    {
      "cell_type": "code",
      "execution_count": 1,
      "metadata": {},
      "outputs": [
        {
          "ename": "NameError",
          "evalue": "name 'kmeans' is not defined",
          "output_type": "error",
          "traceback": [
            "\u001b[0;31m---------------------------------------------------------------------------\u001b[0m",
            "\u001b[0;31mNameError\u001b[0m                                 Traceback (most recent call last)",
            "Cell \u001b[0;32mIn[1], line 4\u001b[0m\n\u001b[1;32m      1\u001b[0m \u001b[38;5;28;01mimport\u001b[39;00m \u001b[38;5;21;01mjoblib\u001b[39;00m\n\u001b[1;32m      3\u001b[0m \u001b[38;5;66;03m# Save the KMeans model\u001b[39;00m\n\u001b[0;32m----> 4\u001b[0m joblib\u001b[38;5;241m.\u001b[39mdump(\u001b[43mkmeans\u001b[49m, \u001b[38;5;124m'\u001b[39m\u001b[38;5;124mkmeans_model.pkl\u001b[39m\u001b[38;5;124m'\u001b[39m)\n\u001b[1;32m      6\u001b[0m \u001b[38;5;66;03m# Save the PCA model\u001b[39;00m\n\u001b[1;32m      7\u001b[0m joblib\u001b[38;5;241m.\u001b[39mdump(pca, \u001b[38;5;124m'\u001b[39m\u001b[38;5;124mpca_model.pkl\u001b[39m\u001b[38;5;124m'\u001b[39m)\n",
            "\u001b[0;31mNameError\u001b[0m: name 'kmeans' is not defined"
          ]
        }
      ],
      "source": [
        "import joblib\n",
        "\n",
        "# Save the KMeans model\n",
        "joblib.dump(kmeans, 'kmeans_model.pkl')\n",
        "\n",
        "# Save the PCA model\n",
        "joblib.dump(pca, 'pca_model.pkl')\n",
        "\n",
        "# Save the StandardScaler\n",
        "joblib.dump(scaler, 'scaler.pkl')\n",
        "\n",
        "# Save the MultiLabelBinarizer\n",
        "joblib.dump(mlb, 'mlb_model.pkl')\n"
      ]
    },
    {
      "cell_type": "code",
      "execution_count": null,
      "metadata": {},
      "outputs": [],
      "source": [
        "import pickle\n",
        "\n",
        "# Define the file paths\n",
        "kmeans_model_path = 'models/clustering_model.pkl'\n",
        "pca_model_path = 'models/pca_model.pkl'\n",
        "scaler_model_path = 'models/scaler_model.pkl'\n",
        "\n",
        "# Save KMeans model\n",
        "with open(kmeans_model_path, 'wb') as f:\n",
        "    pickle.dump(kmeans, f)\n",
        "\n",
        "# Save PCA model\n",
        "with open(pca_model_path, 'wb') as f:\n",
        "    pickle.dump(pca, f)\n",
        "\n",
        "# Save Scaler model\n",
        "with open(scaler_model_path, 'wb') as f:\n",
        "    pickle.dump(scaler, f)"
      ]
    }
  ],
  "metadata": {
    "accelerator": "TPU",
    "colab": {
      "gpuType": "V28",
      "provenance": []
    },
    "kernelspec": {
      "display_name": "Python 3",
      "name": "python3"
    },
    "language_info": {
      "codemirror_mode": {
        "name": "ipython",
        "version": 3
      },
      "file_extension": ".py",
      "mimetype": "text/x-python",
      "name": "python",
      "nbconvert_exporter": "python",
      "pygments_lexer": "ipython3",
      "version": "3.10.12"
    }
  },
  "nbformat": 4,
  "nbformat_minor": 0
}
